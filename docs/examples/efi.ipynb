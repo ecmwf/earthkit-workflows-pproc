{
 "cells": [
  {
   "cell_type": "markdown",
   "metadata": {},
   "source": [
    "# Graph Construction"
   ]
  },
  {
   "cell_type": "code",
   "execution_count": null,
   "metadata": {
    "tags": []
   },
   "outputs": [],
   "source": [
    "from ppcascade.fluent import PProcFluent\n",
    "from ppcascade.utils.request import Request\n",
    "from ppcascade.utils.window import Range\n",
    "\n",
    "graph = (\n",
    "    PProcFluent().source([Request({\n",
    "        \"class\": \"od\", \n",
    "        \"expver\": \"0001\", \n",
    "        \"stream\": \"enfo\", \n",
    "        \"date\": \"20240226\", \n",
    "        \"time\": \"00\", \n",
    "        \"param\": 167, \n",
    "        \"levtype\": \"sfc\", \n",
    "        \"type\": \"pf\", \n",
    "        \"number\": range(1, 51), \n",
    "        \"step\": range(0, 25, 6)\n",
    "        })])\n",
    "    .window_operation(\n",
    "        \"mean\", \n",
    "        [\n",
    "            Range(\"0-12\", [0, 6, 12]), \n",
    "            Range(\"12-24\", [12, 18, 24])\n",
    "        ],\n",
    "        dim=\"step\")      \n",
    "    #.ensemble_operation(\"mean\", dim=\"number\")\n",
    ")"
   ]
  },
  {
   "cell_type": "code",
   "execution_count": null,
   "metadata": {
    "tags": []
   },
   "outputs": [],
   "source": [
    "graph.nodes.coords"
   ]
  },
  {
   "cell_type": "markdown",
   "metadata": {},
   "source": [
    "# EFI Graph Execution Example"
   ]
  },
  {
   "cell_type": "code",
   "execution_count": null,
   "metadata": {
    "tags": []
   },
   "outputs": [],
   "source": [
    "from cascade.cascade import Cascade\n",
    "\n",
    "from ppcascade.entry.parser import get_parser\n",
    "\n",
    "parser = get_parser(\"extreme\")\n",
    "graph = Cascade.graph(\"extreme\", parser.parse_args([\"-c\", \"efi.yaml\", \"--forecast\", \"mars:ens\", \"--climatology\", \"mars:clim\"]))"
   ]
  },
  {
   "cell_type": "code",
   "execution_count": null,
   "metadata": {
    "tags": []
   },
   "outputs": [],
   "source": [
    "import functools\n",
    "\n",
    "from cascade.graph import pyvis\n",
    "\n",
    "def node_info_ext(sinks, node):\n",
    "    info = pyvis.node_info(node)\n",
    "    info[\"color\"] = \"#648FFF\"\n",
    "    if not node.inputs:\n",
    "        info[\"shape\"] = \"diamond\"\n",
    "        info[\"color\"] = \"#DC267F\"\n",
    "    elif node in sinks:\n",
    "        info[\"shape\"] = \"triangle\"\n",
    "        info[\"color\"] = \"#FFB000\"\n",
    "    if node.payload is not None:\n",
    "        t = []\n",
    "        if \"title\" in info:\n",
    "            t.append(info[\"title\"])\n",
    "        func, *args = node.payload\n",
    "        t.append(f\"Function: {func}\")\n",
    "        if args:\n",
    "            t.append(\"Arguments:\")\n",
    "            t.extend(f\"- {arg!r}\" for arg in args)\n",
    "        info[\"title\"] = \"\\n\".join(t)\n",
    "    return info\n",
    "\n",
    "pyvis_graph = pyvis.to_pyvis(\n",
    "        graph,\n",
    "        notebook=True,\n",
    "        cdn_resources=\"remote\",\n",
    "        height=\"1500px\",\n",
    "        node_attrs=functools.partial(node_info_ext, graph.sinks),\n",
    "        hierarchical_layout=False,\n",
    "    )\n",
    "pyvis_graph.show(f\"efi_graph.html\")"
   ]
  },
  {
   "cell_type": "code",
   "execution_count": null,
   "metadata": {
    "tags": []
   },
   "outputs": [],
   "source": [
    "from cascade.executors.dask import DaskLocalExecutor \n",
    "\n",
    "DaskLocalExecutor.execute(\n",
    "    graph,\n",
    "    n_workers=2,\n",
    "    threads_per_worker=1,\n",
    "    memory_limit=\"10GB\",\n",
    "    report=f\"efi_dask_report.html\",\n",
    ")\n"
   ]
  },
  {
   "cell_type": "markdown",
   "metadata": {},
   "source": [
    "# Construction with Array API Backend"
   ]
  },
  {
   "cell_type": "markdown",
   "metadata": {},
   "source": [
    "Note: it is possible to use the array api backend to work with pure arrays instead of earthkit objects with metadata, however, this does not necessarily work out of the box with the pre-constructed graphs depending on how the graph is constructed. In particular, if the internal contents of each node contain more than a single field e.g. multiple ensemble members, and computations involving reducing along dimensions in the internal array is required then the keyword arguments for the backend functions will diverge. For example, in the case of computing a mean over ensemble members the array api requires keyword argument \"axis\" in order to not flatten the entire array. If the graph is constructed such that the internal contents of each node only contains a single field then the backend can be swapped out without any problems."
   ]
  },
  {
   "cell_type": "code",
   "execution_count": null,
   "metadata": {
    "tags": []
   },
   "outputs": [],
   "source": [
    "%env CASCADE_ARRAY_MODULE=numpy"
   ]
  },
  {
   "cell_type": "code",
   "execution_count": null,
   "metadata": {
    "tags": []
   },
   "outputs": [],
   "source": [
    "from ppcascade.fluent import PProcFluent\n",
    "from ppcascade.utils.request import Request\n",
    "from ppcascade.utils.window import Range\n",
    "from ppcascade.backends.arrayapi import ArrayAPIBackend\n",
    "\n",
    "windows = [\n",
    "            Range(\"0-24\", list(range(0, 25, 6))), \n",
    "            Range(\"12-36\", list(range(12, 37, 6)))\n",
    "        ]\n",
    "\n",
    "interopolation = {\n",
    "    \"grid\": \"O640\"\n",
    "}\n",
    "\n",
    "fluent = PProcFluent()\n",
    "\n",
    "climatology = fluent.source([Request({\n",
    "        \"class\": \"od\", \n",
    "        \"expver\": \"0001\", \n",
    "        \"stream\": \"efhs\", \n",
    "        \"date\": \"20240314\", \n",
    "        \"time\": \"00\", \n",
    "        \"param\": 228004, \n",
    "        \"levtype\": \"sfc\", \n",
    "        \"type\": \"cd\", \n",
    "        \"step\": [\"0-24\", \"12-36\"],\n",
    "        \"quantile\": [\"{}:100\".format(i) for i in range(100 + 1)],\n",
    "        \"source\": \"mars\",\n",
    "        \"interpolate\": interopolation\n",
    "    }, \n",
    "    no_expand=(\"quantile\",))\n",
    "                            ], backend=ArrayAPIBackend)\n",
    "\n",
    "actions = (\n",
    "    fluent.source([Request({\n",
    "        \"class\": \"od\", \n",
    "        \"expver\": \"0001\", \n",
    "        \"stream\": \"enfo\", \n",
    "        \"date\": \"20240314\", \n",
    "        \"time\": \"00\", \n",
    "        \"param\": 167, \n",
    "        \"levtype\": \"sfc\", \n",
    "        \"type\": \"pf\", \n",
    "        \"number\": range(1, 5), \n",
    "        \"step\": range(0, 37, 6),\n",
    "        \"source\": \"mars\",\n",
    "        \"interpolate\": interopolation\n",
    "        })], backend=ArrayAPIBackend)\n",
    "    .window_operation(\n",
    "        \"mean\", \n",
    "        windows,\n",
    "        dim=\"step\")      \n",
    "    .ensemble_extreme(\"efi\", climatology, windows, eps=1e-4)\n",
    ")"
   ]
  },
  {
   "cell_type": "code",
   "execution_count": null,
   "metadata": {
    "tags": []
   },
   "outputs": [],
   "source": [
    "actions.nodes"
   ]
  },
  {
   "cell_type": "code",
   "execution_count": null,
   "metadata": {
    "tags": []
   },
   "outputs": [],
   "source": [
    "from cascade.executors.dask import DaskLocalExecutor \n",
    "\n",
    "result = DaskLocalExecutor.execute(\n",
    "    actions.graph(),\n",
    "    n_workers=2,\n",
    "    threads_per_worker=1,\n",
    "    memory_limit=\"10GB\",\n",
    "    report=f\"efi_dask_report.html\",\n",
    ")"
   ]
  },
  {
   "cell_type": "code",
   "execution_count": null,
   "metadata": {},
   "outputs": [],
   "source": [
    "result"
   ]
  }
 ],
 "metadata": {
  "kernelspec": {
   "display_name": "ppcascade",
   "language": "python",
   "name": "ppcascade"
  },
  "language_info": {
   "codemirror_mode": {
    "name": "ipython",
    "version": 3
   },
   "file_extension": ".py",
   "mimetype": "text/x-python",
   "name": "python",
   "nbconvert_exporter": "python",
   "pygments_lexer": "ipython3",
   "version": "3.10.10"
  }
 },
 "nbformat": 4,
 "nbformat_minor": 4
}
