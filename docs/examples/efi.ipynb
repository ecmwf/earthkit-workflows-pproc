{
 "cells": [
  {
   "cell_type": "markdown",
   "metadata": {},
   "source": [
    "# Graph Construction"
   ]
  },
  {
   "cell_type": "code",
   "execution_count": null,
   "metadata": {
    "tags": []
   },
   "outputs": [],
   "source": [
    "from ppcascade.fluent import PProcFluent\n",
    "from ppcascade.utils.request import Request\n",
    "from ppcascade.utils.window import Range\n",
    "\n",
    "graph = (\n",
    "    PProcFluent().source([Request({\n",
    "        \"class\": \"od\", \n",
    "        \"expver\": \"0001\", \n",
    "        \"stream\": \"enfo\", \n",
    "        \"date\": \"20240226\", \n",
    "        \"time\": \"00\", \n",
    "        \"param\": 167, \n",
    "        \"levtype\": \"sfc\", \n",
    "        \"type\": \"pf\", \n",
    "        \"number\": range(1, 51), \n",
    "        \"step\": range(0, 25, 6)\n",
    "        })])\n",
    "    .window_operation(\n",
    "        \"mean\", \n",
    "        [\n",
    "            Range(\"0-12\", [0, 6, 12]), \n",
    "            Range(\"12-24\", [12, 18, 24])\n",
    "        ],\n",
    "        dim=\"step\")      \n",
    "    #.ensemble_operation(\"mean\", dim=\"number\")\n",
    ")"
   ]
  },
  {
   "cell_type": "code",
   "execution_count": null,
   "metadata": {
    "tags": []
   },
   "outputs": [],
   "source": [
    "graph.nodes.coords"
   ]
  },
  {
   "cell_type": "markdown",
   "metadata": {},
   "source": [
    "# Graph Construction with Array API Backend"
   ]
  },
  {
   "cell_type": "code",
   "execution_count": 5,
   "metadata": {
    "tags": []
   },
   "outputs": [
    {
     "name": "stdout",
     "output_type": "stream",
     "text": [
      "env: CASCADE_ARRAY_MODULE=cupy\n"
     ]
    }
   ],
   "source": [
    "%env CASCADE_ARRAY_MODULE=cupy"
   ]
  },
  {
   "cell_type": "code",
   "execution_count": 6,
   "metadata": {
    "tags": []
   },
   "outputs": [],
   "source": [
    "from cascade.fluent import Payload \n",
    "\n",
    "from ppcascade.fluent import PProcFluent\n",
    "from ppcascade.utils.request import Request\n",
    "from ppcascade.utils.window import Range\n",
    "from ppcascade.backends.arrayapi import ArrayAPIBackend\n",
    "\n",
    "windows = [\n",
    "            Range(\"0-24\", list(range(0, 25, 6))), \n",
    "            Range(\"12-36\", list(range(12, 37, 6)))\n",
    "        ]\n",
    "\n",
    "interopolation = {\n",
    "    \"grid\": \"O640\"\n",
    "}\n",
    "\n",
    "fluent = PProcFluent(backend=ArrayAPIBackend)\n",
    "\n",
    "climatology = fluent.source([Request({\n",
    "        \"class\": \"od\", \n",
    "        \"expver\": \"0001\", \n",
    "        \"stream\": \"efhs\", \n",
    "        \"date\": \"20240222\", \n",
    "        \"time\": \"00\", \n",
    "        \"param\": 228004, \n",
    "        \"levtype\": \"sfc\", \n",
    "        \"type\": \"cd\", \n",
    "        \"step\": [\"0-24\", \"12-36\"],\n",
    "        \"quantile\": [\"{}:100\".format(i) for i in range(100 + 1)],\n",
    "        \"source\": \"mars\",\n",
    "        \"interpolate\": interopolation\n",
    "    }, \n",
    "    no_expand=(\"quantile\",))\n",
    "                            ])\n",
    "\n",
    "actions = (\n",
    "    fluent.source([Request({\n",
    "        \"class\": \"od\", \n",
    "        \"expver\": \"0001\", \n",
    "        \"stream\": \"enfo\", \n",
    "        \"date\": \"20240225\", \n",
    "        \"time\": \"00\", \n",
    "        \"param\": 167, \n",
    "        \"levtype\": \"sfc\", \n",
    "        \"type\": \"pf\", \n",
    "        \"number\": range(1, 5), \n",
    "        \"step\": range(0, 37, 6),\n",
    "        \"source\": \"mars\",\n",
    "        \"interpolate\": interopolation\n",
    "        })])\n",
    "    .window_operation(\n",
    "        \"mean\", \n",
    "        windows,\n",
    "        dim=\"step\")      \n",
    "    .ensemble_extreme(\"efi\", climatology, windows, eps=1e-4)\n",
    "    .map(Payload(lambda x: x.get()))\n",
    ")"
   ]
  },
  {
   "cell_type": "code",
   "execution_count": null,
   "metadata": {
    "tags": []
   },
   "outputs": [],
   "source": [
    "actions.nodes"
   ]
  },
  {
   "cell_type": "code",
   "execution_count": 7,
   "metadata": {
    "tags": []
   },
   "outputs": [],
   "source": [
    "graph = actions.graph()"
   ]
  },
  {
   "cell_type": "code",
   "execution_count": 8,
   "metadata": {
    "tags": []
   },
   "outputs": [
    {
     "name": "stderr",
     "output_type": "stream",
     "text": [
      "/perm/mawj/venvs/ppcascade/lib/python3.10/site-packages/distributed/node.py:182: UserWarning: Port 8787 is already in use.\n",
      "Perhaps you already have a cluster running?\n",
      "Hosting the HTTP server on port 46317 instead\n",
      "  warnings.warn(\n"
     ]
    },
    {
     "name": "stdout",
     "output_type": "stream",
     "text": [
      "RETRIEVE {'class': 'od', 'expver': '0001', 'stream': 'enfo', 'date': '20240225', 'time': '00', 'param': 167, 'levtype': 'sfc', 'type': 'pf', 'number': 2, 'step': 6, 'source': 'mars', 'interpolate': {'grid': 'O640'}}: wall time: 0.857754 s (857754 microseconds), CPU time: 0.484088 s (484088 microseconds), memory: 409001984 bytes (390.055 MiB)\n",
      "RETRIEVE {'class': 'od', 'expver': '0001', 'stream': 'enfo', 'date': '20240225', 'time': '00', 'param': 167, 'levtype': 'sfc', 'type': 'pf', 'number': 2, 'step': 18, 'source': 'mars', 'interpolate': {'grid': 'O640'}}: wall time: 0.124463 s (124463 microseconds), CPU time: 0.071619 s (71619 microseconds), memory: 492486656 bytes (469.672 MiB)\n",
      "RETRIEVE {'class': 'od', 'expver': '0001', 'stream': 'enfo', 'date': '20240225', 'time': '00', 'param': 167, 'levtype': 'sfc', 'type': 'pf', 'number': 2, 'step': 0, 'source': 'mars', 'interpolate': {'grid': 'O640'}}: wall time: 0.122958 s (122958 microseconds), CPU time: 0.074487 s (74487 microseconds), memory: 492945408 bytes (470.109 MiB)\n",
      "RETRIEVE {'class': 'od', 'expver': '0001', 'stream': 'enfo', 'date': '20240225', 'time': '00', 'param': 167, 'levtype': 'sfc', 'type': 'pf', 'number': 3, 'step': 0, 'source': 'mars', 'interpolate': {'grid': 'O640'}}: wall time: 0.150479 s (150479 microseconds), CPU time: 0.087214 s (87214 microseconds), memory: 493060096 bytes (470.219 MiB)\n",
      "RETRIEVE {'class': 'od', 'expver': '0001', 'stream': 'enfo', 'date': '20240225', 'time': '00', 'param': 167, 'levtype': 'sfc', 'type': 'pf', 'number': 3, 'step': 18, 'source': 'mars', 'interpolate': {'grid': 'O640'}}: wall time: 0.130184 s (130184 microseconds), CPU time: 0.085242 s (85242 microseconds), memory: 493068288 bytes (470.227 MiB)\n",
      "RETRIEVE {'class': 'od', 'expver': '0001', 'stream': 'enfo', 'date': '20240225', 'time': '00', 'param': 167, 'levtype': 'sfc', 'type': 'pf', 'number': 4, 'step': 6, 'source': 'mars', 'interpolate': {'grid': 'O640'}}: wall time: 0.125543 s (125543 microseconds), CPU time: 0.07599 s (75990 microseconds), memory: 493170688 bytes (470.324 MiB)\n",
      "RETRIEVE {'class': 'od', 'expver': '0001', 'stream': 'enfo', 'date': '20240225', 'time': '00', 'param': 167, 'levtype': 'sfc', 'type': 'pf', 'number': 4, 'step': 24, 'source': 'mars', 'interpolate': {'grid': 'O640'}}: wall time: 0.138165 s (138165 microseconds), CPU time: 0.087275 s (87275 microseconds), memory: 493346816 bytes (470.492 MiB)\n",
      "RETRIEVE {'class': 'od', 'expver': '0001', 'stream': 'enfo', 'date': '20240225', 'time': '00', 'param': 167, 'levtype': 'sfc', 'type': 'pf', 'number': 4, 'step': 12, 'source': 'mars', 'interpolate': {'grid': 'O640'}}: wall time: 0.135637 s (135637 microseconds), CPU time: 0.075412 s (75412 microseconds), memory: 493527040 bytes (470.664 MiB)\n",
      "RETRIEVE {'class': 'od', 'expver': '0001', 'stream': 'enfo', 'date': '20240225', 'time': '00', 'param': 167, 'levtype': 'sfc', 'type': 'pf', 'number': 1, 'step': 6, 'source': 'mars', 'interpolate': {'grid': 'O640'}}: wall time: 0.184271 s (184271 microseconds), CPU time: 0.081451 s (81451 microseconds), memory: 493658112 bytes (470.789 MiB)\n",
      "RETRIEVE {'class': 'od', 'expver': '0001', 'stream': 'enfo', 'date': '20240225', 'time': '00', 'param': 167, 'levtype': 'sfc', 'type': 'pf', 'number': 1, 'step': 18, 'source': 'mars', 'interpolate': {'grid': 'O640'}}: wall time: 0.128282 s (128282 microseconds), CPU time: 0.077218 s (77218 microseconds), memory: 493797376 bytes (470.922 MiB)\n",
      "RETRIEVE {'class': 'od', 'expver': '0001', 'stream': 'efhs', 'date': '20240222', 'time': '00', 'param': 228004, 'levtype': 'sfc', 'type': 'cd', 'step': '0-24', 'quantile': ['0:100', '1:100', '2:100', '3:100', '4:100', '5:100', '6:100', '7:100', '8:100', '9:100', '10:100', '11:100', '12:100', '13:100', '14:100', '15:100', '16:100', '17:100', '18:100', '19:100', '20:100', '21:100', '22:100', '23:100', '24:100', '25:100', '26:100', '27:100', '28:100', '29:100', '30:100', '31:100', '32:100', '33:100', '34:100', '35:100', '36:100', '37:100', '38:100', '39:100', '40:100', '41:100', '42:100', '43:100', '44:100', '45:100', '46:100', '47:100', '48:100', '49:100', '50:100', '51:100', '52:100', '53:100', '54:100', '55:100', '56:100', '57:100', '58:100', '59:100', '60:100', '61:100', '62:100', '63:100', '64:100', '65:100', '66:100', '67:100', '68:100', '69:100', '70:100', '71:100', '72:100', '73:100', '74:100', '75:100', '76:100', '77:100', '78:100', '79:100', '80:100', '81:100', '82:100', '83:100', '84:100', '85:100', '86:100', '87:100', '88:100', '89:100', '90:100', '91:100', '92:100', '93:100', '94:100', '95:100', '96:100', '97:100', '98:100', '99:100', '100:100'], 'source': 'mars', 'interpolate': {'grid': 'O640'}}: wall time: 21.5348 s (21 seconds 534787 microseconds), CPU time: 16.9395 s (16 seconds 939546 microseconds), memory: 991174656 bytes (945.258 MiB)\n",
      "RETRIEVE {'class': 'od', 'expver': '0001', 'stream': 'enfo', 'date': '20240225', 'time': '00', 'param': 167, 'levtype': 'sfc', 'type': 'pf', 'number': 1, 'step': 30, 'source': 'mars', 'interpolate': {'grid': 'O640'}}: wall time: 0.115677 s (115677 microseconds), CPU time: 0.080038 s (80038 microseconds), memory: 4231098368 bytes (3.94052 GiB)\n",
      "RETRIEVE {'class': 'od', 'expver': '0001', 'stream': 'enfo', 'date': '20240225', 'time': '00', 'param': 167, 'levtype': 'sfc', 'type': 'pf', 'number': 4, 'step': 30, 'source': 'mars', 'interpolate': {'grid': 'O640'}}: wall time: 0.111108 s (111108 microseconds), CPU time: 0.076393 s (76393 microseconds), memory: 4231098368 bytes (3.94052 GiB)\n",
      "RETRIEVE {'class': 'od', 'expver': '0001', 'stream': 'enfo', 'date': '20240225', 'time': '00', 'param': 167, 'levtype': 'sfc', 'type': 'pf', 'number': 2, 'step': 30, 'source': 'mars', 'interpolate': {'grid': 'O640'}}: wall time: 0.110832 s (110832 microseconds), CPU time: 0.074083 s (74083 microseconds), memory: 4231098368 bytes (3.94052 GiB)\n",
      "RETRIEVE {'class': 'od', 'expver': '0001', 'stream': 'enfo', 'date': '20240225', 'time': '00', 'param': 167, 'levtype': 'sfc', 'type': 'pf', 'number': 3, 'step': 30, 'source': 'mars', 'interpolate': {'grid': 'O640'}}: wall time: 0.104801 s (104801 microseconds), CPU time: 0.079983 s (79983 microseconds), memory: 4231098368 bytes (3.94052 GiB)\n",
      "RETRIEVE {'class': 'od', 'expver': '0001', 'stream': 'enfo', 'date': '20240225', 'time': '00', 'param': 167, 'levtype': 'sfc', 'type': 'pf', 'number': 2, 'step': 24, 'source': 'mars', 'interpolate': {'grid': 'O640'}}: wall time: 0.913626 s (913626 microseconds), CPU time: 0.494661 s (494661 microseconds), memory: 409088000 bytes (390.137 MiB)\n",
      "RETRIEVE {'class': 'od', 'expver': '0001', 'stream': 'enfo', 'date': '20240225', 'time': '00', 'param': 167, 'levtype': 'sfc', 'type': 'pf', 'number': 2, 'step': 12, 'source': 'mars', 'interpolate': {'grid': 'O640'}}: wall time: 0.127224 s (127224 microseconds), CPU time: 0.07885 s (78850 microseconds), memory: 492310528 bytes (469.504 MiB)\n",
      "RETRIEVE {'class': 'od', 'expver': '0001', 'stream': 'enfo', 'date': '20240225', 'time': '00', 'param': 167, 'levtype': 'sfc', 'type': 'pf', 'number': 3, 'step': 6, 'source': 'mars', 'interpolate': {'grid': 'O640'}}: wall time: 0.185646 s (185646 microseconds), CPU time: 0.079562 s (79562 microseconds), memory: 493133824 bytes (470.289 MiB)\n",
      "RETRIEVE {'class': 'od', 'expver': '0001', 'stream': 'enfo', 'date': '20240225', 'time': '00', 'param': 167, 'levtype': 'sfc', 'type': 'pf', 'number': 3, 'step': 24, 'source': 'mars', 'interpolate': {'grid': 'O640'}}: wall time: 0.127957 s (127957 microseconds), CPU time: 0.077546 s (77546 microseconds), memory: 493424640 bytes (470.566 MiB)\n",
      "RETRIEVE {'class': 'od', 'expver': '0001', 'stream': 'enfo', 'date': '20240225', 'time': '00', 'param': 167, 'levtype': 'sfc', 'type': 'pf', 'number': 3, 'step': 12, 'source': 'mars', 'interpolate': {'grid': 'O640'}}: wall time: 0.1257 s (125700 microseconds), CPU time: 0.082 s (82000 microseconds), memory: 493506560 bytes (470.645 MiB)\n",
      "RETRIEVE {'class': 'od', 'expver': '0001', 'stream': 'enfo', 'date': '20240225', 'time': '00', 'param': 167, 'levtype': 'sfc', 'type': 'pf', 'number': 4, 'step': 0, 'source': 'mars', 'interpolate': {'grid': 'O640'}}: wall time: 0.193417 s (193417 microseconds), CPU time: 0.078058 s (78058 microseconds), memory: 493588480 bytes (470.723 MiB)\n",
      "RETRIEVE {'class': 'od', 'expver': '0001', 'stream': 'enfo', 'date': '20240225', 'time': '00', 'param': 167, 'levtype': 'sfc', 'type': 'pf', 'number': 4, 'step': 18, 'source': 'mars', 'interpolate': {'grid': 'O640'}}: wall time: 0.159466 s (159466 microseconds), CPU time: 0.080539 s (80539 microseconds), memory: 493723648 bytes (470.852 MiB)\n",
      "RETRIEVE {'class': 'od', 'expver': '0001', 'stream': 'enfo', 'date': '20240225', 'time': '00', 'param': 167, 'levtype': 'sfc', 'type': 'pf', 'number': 1, 'step': 0, 'source': 'mars', 'interpolate': {'grid': 'O640'}}: wall time: 0.131099 s (131099 microseconds), CPU time: 0.079903 s (79903 microseconds), memory: 493834240 bytes (470.957 MiB)\n",
      "RETRIEVE {'class': 'od', 'expver': '0001', 'stream': 'enfo', 'date': '20240225', 'time': '00', 'param': 167, 'levtype': 'sfc', 'type': 'pf', 'number': 1, 'step': 24, 'source': 'mars', 'interpolate': {'grid': 'O640'}}: wall time: 0.143706 s (143706 microseconds), CPU time: 0.078347 s (78347 microseconds), memory: 493916160 bytes (471.035 MiB)\n",
      "RETRIEVE {'class': 'od', 'expver': '0001', 'stream': 'enfo', 'date': '20240225', 'time': '00', 'param': 167, 'levtype': 'sfc', 'type': 'pf', 'number': 1, 'step': 12, 'source': 'mars', 'interpolate': {'grid': 'O640'}}: wall time: 0.125614 s (125614 microseconds), CPU time: 0.077812 s (77812 microseconds), memory: 535261184 bytes (510.465 MiB)\n",
      "RETRIEVE {'class': 'od', 'expver': '0001', 'stream': 'enfo', 'date': '20240225', 'time': '00', 'param': 167, 'levtype': 'sfc', 'type': 'pf', 'number': 1, 'step': 36, 'source': 'mars', 'interpolate': {'grid': 'O640'}}: wall time: 0.118941 s (118941 microseconds), CPU time: 0.073012 s (73012 microseconds), memory: 535375872 bytes (510.574 MiB)\n",
      "RETRIEVE {'class': 'od', 'expver': '0001', 'stream': 'enfo', 'date': '20240225', 'time': '00', 'param': 167, 'levtype': 'sfc', 'type': 'pf', 'number': 4, 'step': 36, 'source': 'mars', 'interpolate': {'grid': 'O640'}}: wall time: 0.123588 s (123588 microseconds), CPU time: 0.083414 s (83414 microseconds), memory: 535617536 bytes (510.805 MiB)\n",
      "RETRIEVE {'class': 'od', 'expver': '0001', 'stream': 'enfo', 'date': '20240225', 'time': '00', 'param': 167, 'levtype': 'sfc', 'type': 'pf', 'number': 2, 'step': 36, 'source': 'mars', 'interpolate': {'grid': 'O640'}}: wall time: 0.122625 s (122625 microseconds), CPU time: 0.076223 s (76223 microseconds), memory: 535834624 bytes (511.012 MiB)\n",
      "RETRIEVE {'class': 'od', 'expver': '0001', 'stream': 'enfo', 'date': '20240225', 'time': '00', 'param': 167, 'levtype': 'sfc', 'type': 'pf', 'number': 3, 'step': 36, 'source': 'mars', 'interpolate': {'grid': 'O640'}}: wall time: 0.123328 s (123328 microseconds), CPU time: 0.07843 s (78430 microseconds), memory: 536133632 bytes (511.297 MiB)\n",
      "RETRIEVE {'class': 'od', 'expver': '0001', 'stream': 'efhs', 'date': '20240222', 'time': '00', 'param': 228004, 'levtype': 'sfc', 'type': 'cd', 'step': '12-36', 'quantile': ['0:100', '1:100', '2:100', '3:100', '4:100', '5:100', '6:100', '7:100', '8:100', '9:100', '10:100', '11:100', '12:100', '13:100', '14:100', '15:100', '16:100', '17:100', '18:100', '19:100', '20:100', '21:100', '22:100', '23:100', '24:100', '25:100', '26:100', '27:100', '28:100', '29:100', '30:100', '31:100', '32:100', '33:100', '34:100', '35:100', '36:100', '37:100', '38:100', '39:100', '40:100', '41:100', '42:100', '43:100', '44:100', '45:100', '46:100', '47:100', '48:100', '49:100', '50:100', '51:100', '52:100', '53:100', '54:100', '55:100', '56:100', '57:100', '58:100', '59:100', '60:100', '61:100', '62:100', '63:100', '64:100', '65:100', '66:100', '67:100', '68:100', '69:100', '70:100', '71:100', '72:100', '73:100', '74:100', '75:100', '76:100', '77:100', '78:100', '79:100', '80:100', '81:100', '82:100', '83:100', '84:100', '85:100', '86:100', '87:100', '88:100', '89:100', '90:100', '91:100', '92:100', '93:100', '94:100', '95:100', '96:100', '97:100', '98:100', '99:100', '100:100'], 'source': 'mars', 'interpolate': {'grid': 'O640'}}: wall time: 22.454 s (22 seconds 453988 microseconds), CPU time: 17.3795 s (17 seconds 379452 microseconds), memory: 991834112 bytes (945.887 MiB)\n"
     ]
    }
   ],
   "source": [
    "from cascade.executors.dask import DaskLocalExecutor \n",
    "\n",
    "res = DaskLocalExecutor.execute(\n",
    "    graph,\n",
    "    n_workers=2,\n",
    "    threads_per_worker=1,\n",
    "    memory_limit=\"10GB\",\n",
    "    report=f\"efi_dask_report.html\",\n",
    ")"
   ]
  },
  {
   "cell_type": "code",
   "execution_count": 9,
   "metadata": {
    "tags": []
   },
   "outputs": [
    {
     "data": {
      "text/plain": [
       "{'<lambda>:d3831853f0b0191f8471ced9243909feab3b4d834f50c7c2735f56bc07b89070': array([-0.24843275, -0.24147579, -0.24147579, ...,  0.45509491,\n",
       "         0.45955327,  0.45955327]),\n",
       " '<lambda>:64fcef6ba270f78ba6d5744bfdc2c73b2a7f6c2ee5a0af2cfd047bccd46d68dc': array([-0.03508321, -0.03508321, -0.03827666, ...,  0.33387511,\n",
       "         0.33387511,  0.33019925])}"
      ]
     },
     "execution_count": 9,
     "metadata": {},
     "output_type": "execute_result"
    }
   ],
   "source": [
    "res"
   ]
  },
  {
   "cell_type": "markdown",
   "metadata": {},
   "source": [
    "# EFI Graph Execution Example"
   ]
  },
  {
   "cell_type": "code",
   "execution_count": null,
   "metadata": {
    "tags": []
   },
   "outputs": [],
   "source": [
    "from cascade.cascade import Cascade\n",
    "\n",
    "from ppcascade.entry.parser import get_parser\n",
    "\n",
    "parser = get_parser(\"extreme\")\n",
    "graph = Cascade.graph(\"extreme\", parser.parse_args([\"-c\", \"efi.yaml\", \"--forecast\", \"mars:ens\", \"--climatology\", \"mars:clim\"]))"
   ]
  },
  {
   "cell_type": "code",
   "execution_count": null,
   "metadata": {
    "tags": []
   },
   "outputs": [],
   "source": [
    "import functools\n",
    "\n",
    "from cascade.graph import pyvis\n",
    "\n",
    "def node_info_ext(sinks, node):\n",
    "    info = pyvis.node_info(node)\n",
    "    info[\"color\"] = \"#648FFF\"\n",
    "    if not node.inputs:\n",
    "        info[\"shape\"] = \"diamond\"\n",
    "        info[\"color\"] = \"#DC267F\"\n",
    "    elif node in sinks:\n",
    "        info[\"shape\"] = \"triangle\"\n",
    "        info[\"color\"] = \"#FFB000\"\n",
    "    if node.payload is not None:\n",
    "        t = []\n",
    "        if \"title\" in info:\n",
    "            t.append(info[\"title\"])\n",
    "        func, *args = node.payload\n",
    "        t.append(f\"Function: {func}\")\n",
    "        if args:\n",
    "            t.append(\"Arguments:\")\n",
    "            t.extend(f\"- {arg!r}\" for arg in args)\n",
    "        info[\"title\"] = \"\\n\".join(t)\n",
    "    return info\n",
    "\n",
    "pyvis_graph = pyvis.to_pyvis(\n",
    "        graph,\n",
    "        notebook=True,\n",
    "        cdn_resources=\"remote\",\n",
    "        height=\"1500px\",\n",
    "        node_attrs=functools.partial(node_info_ext, graph.sinks),\n",
    "        hierarchical_layout=False,\n",
    "    )\n",
    "pyvis_graph.show(f\"efi_graph.html\")"
   ]
  },
  {
   "cell_type": "code",
   "execution_count": null,
   "metadata": {
    "tags": []
   },
   "outputs": [],
   "source": [
    "from cascade.executors.dask import DaskLocalExecutor \n",
    "\n",
    "DaskLocalExecutor.execute(\n",
    "    graph,\n",
    "    n_workers=2,\n",
    "    threads_per_worker=1,\n",
    "    memory_limit=\"10GB\",\n",
    "    report=f\"efi_dask_report.html\",\n",
    ")\n"
   ]
  }
 ],
 "metadata": {
  "kernelspec": {
   "display_name": "ppcascade",
   "language": "python",
   "name": "ppcascade"
  },
  "language_info": {
   "codemirror_mode": {
    "name": "ipython",
    "version": 3
   },
   "file_extension": ".py",
   "mimetype": "text/x-python",
   "name": "python",
   "nbconvert_exporter": "python",
   "pygments_lexer": "ipython3",
   "version": "3.10.10"
  }
 },
 "nbformat": 4,
 "nbformat_minor": 4
}
