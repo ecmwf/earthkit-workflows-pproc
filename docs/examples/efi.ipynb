{
 "cells": [
  {
   "cell_type": "markdown",
   "metadata": {},
   "source": [
    "# EFI Graph Execution Example"
   ]
  },
  {
   "cell_type": "code",
   "execution_count": null,
   "metadata": {
    "tags": []
   },
   "outputs": [],
   "source": [
    "from cascade.cascade import Cascade\n",
    "\n",
    "from ppcascade.entry.parser import get_parser\n",
    "\n",
    "parser = get_parser(\"extreme\")\n",
    "graph = Cascade.graph(\"extreme\", parser.parse_args([\"-c\", \"efi.yaml\", \"--forecast\", \"mars:ens\", \"--climatology\", \"mars:clim\"]))"
   ]
  },
  {
   "cell_type": "code",
   "execution_count": null,
   "metadata": {
    "tags": []
   },
   "outputs": [],
   "source": [
    "import functools\n",
    "\n",
    "from cascade.graph import pyvis\n",
    "\n",
    "def node_info_ext(sinks, node):\n",
    "    info = pyvis.node_info(node)\n",
    "    info[\"color\"] = \"#648FFF\"\n",
    "    if not node.inputs:\n",
    "        info[\"shape\"] = \"diamond\"\n",
    "        info[\"color\"] = \"#DC267F\"\n",
    "    elif node in sinks:\n",
    "        info[\"shape\"] = \"triangle\"\n",
    "        info[\"color\"] = \"#FFB000\"\n",
    "    if node.payload is not None:\n",
    "        t = []\n",
    "        if \"title\" in info:\n",
    "            t.append(info[\"title\"])\n",
    "        func, *args = node.payload\n",
    "        t.append(f\"Function: {func}\")\n",
    "        if args:\n",
    "            t.append(\"Arguments:\")\n",
    "            t.extend(f\"- {arg!r}\" for arg in args)\n",
    "        info[\"title\"] = \"\\n\".join(t)\n",
    "    return info\n",
    "\n",
    "pyvis_graph = pyvis.to_pyvis(\n",
    "        graph,\n",
    "        notebook=True,\n",
    "        cdn_resources=\"remote\",\n",
    "        height=\"1500px\",\n",
    "        node_attrs=functools.partial(node_info_ext, graph.sinks),\n",
    "        hierarchical_layout=False,\n",
    "    )\n",
    "pyvis_graph.show(f\"efi_graph.html\")"
   ]
  },
  {
   "cell_type": "code",
   "execution_count": null,
   "metadata": {
    "tags": []
   },
   "outputs": [],
   "source": [
    "from cascade.executors.dask import DaskLocalExecutor \n",
    "\n",
    "DaskLocalExecutor.execute(\n",
    "    graph,\n",
    "    n_workers=2,\n",
    "    threads_per_worker=1,\n",
    "    memory_limit=\"10GB\",\n",
    "    report=f\"efi_dask_report.html\",\n",
    ")\n"
   ]
  }
 ],
 "metadata": {
  "kernelspec": {
   "display_name": "ppcascade",
   "language": "python",
   "name": "ppcascade"
  },
  "language_info": {
   "codemirror_mode": {
    "name": "ipython",
    "version": 3
   },
   "file_extension": ".py",
   "mimetype": "text/x-python",
   "name": "python",
   "nbconvert_exporter": "python",
   "pygments_lexer": "ipython3",
   "version": "3.10.10"
  }
 },
 "nbformat": 4,
 "nbformat_minor": 4
}
