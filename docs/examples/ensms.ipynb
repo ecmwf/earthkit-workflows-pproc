{
 "cells": [
  {
   "cell_type": "markdown",
   "metadata": {},
   "source": [
    "# Graph Construction"
   ]
  },
  {
   "cell_type": "code",
   "execution_count": null,
   "metadata": {
    "tags": []
   },
   "outputs": [],
   "source": [
    "from earthkit.workflows.plugins.pproc.fluent import from_source\n",
    "from earthkit.workflows.graph import deduplicate_nodes\n",
    "\n",
    "interpolation = {\n",
    "    \"grid\": \"O320\"\n",
    "}\n",
    "\n",
    "actions = (\n",
    "    from_source([{\n",
    "        \"class\": \"od\", \n",
    "        \"expver\": \"0001\", \n",
    "        \"stream\": \"enfo\", \n",
    "        \"date\": \"20240425\", \n",
    "        \"time\": \"00\", \n",
    "        \"param\": 167, \n",
    "        \"levtype\": \"sfc\", \n",
    "        \"type\": \"pf\", \n",
    "        \"number\": range(1, 6), \n",
    "        \"step\": range(0, 25, 6),\n",
    "        \"source\": \"mars\", \n",
    "        \"interpolate\": interpolation,\n",
    "        }])\n",
    "    .accum_operation(\n",
    "        \"mean\", \n",
    "        [[0, 6, 12, 18, 24], [12, 18, 24]],\n",
    "        dim=\"step\", batch_size=2)      \n",
    "    .ensemble_operation(\"ensms\", dim=\"number\")\n",
    ")\n",
    "\n",
    "graph = deduplicate_nodes(actions.graph())"
   ]
  },
  {
   "cell_type": "code",
   "execution_count": null,
   "metadata": {
    "tags": []
   },
   "outputs": [],
   "source": [
    "from earthkit.workflows.visualise import visualise\n",
    "\n",
    "visualise(graph, \"mean.html\")"
   ]
  }
 ],
 "metadata": {
  "kernelspec": {
   "display_name": "ppcascade",
   "language": "python",
   "name": "ppcascade"
  },
  "language_info": {
   "codemirror_mode": {
    "name": "ipython",
    "version": 3
   },
   "file_extension": ".py",
   "mimetype": "text/x-python",
   "name": "python",
   "nbconvert_exporter": "python",
   "pygments_lexer": "ipython3",
   "version": "3.10.10"
  }
 },
 "nbformat": 4,
 "nbformat_minor": 4
}
