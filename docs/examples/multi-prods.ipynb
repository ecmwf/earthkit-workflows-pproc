{
 "cells": [
  {
   "cell_type": "markdown",
   "metadata": {},
   "source": [
    "# Graph Construction"
   ]
  },
  {
   "cell_type": "code",
   "execution_count": null,
   "metadata": {
    "tags": []
   },
   "outputs": [],
   "source": [
    "from ppcascade.fluent import from_source\n",
    "from ppcascade.utils.window import Range\n",
    "from ppcascade.utils.request import Request\n",
    "from cascade.graph import deduplicate_nodes\n",
    "\n",
    "GRID = \"O320\"     # For higher memory usage increase to O640 or O1280\n",
    "NUM_ENSEMBLES = 2 # Can increase up to 50\n",
    "SOURCE = \"mars\"   # Change to fdb if using local fdb. Note FDB_HOME will need to be specified \n",
    "                  # and to change the grid from that archived in the FDB you will need to add \n",
    "                  # the commented out interpolation line in the request and remove the \"grid\" \n",
    "                  # key\n",
    "END_STEP = 60     # Can increase to a number divisible by 6 up to 240\n",
    "DATE = \"20241015\"\n",
    "CLIM_DATE = \"20241014\"\n",
    "\n",
    "inputs = from_source([{\n",
    "        \"class\": \"od\", \n",
    "        \"expver\": \"0001\", \n",
    "        \"stream\": \"enfo\", \n",
    "        \"date\": DATE, \n",
    "        \"time\": \"00\", \n",
    "        \"param\": 167, \n",
    "        \"levtype\": \"sfc\", \n",
    "        \"type\": \"pf\", \n",
    "        \"number\": range(1, NUM_ENSEMBLES + 1), \n",
    "        \"step\": range(0, END_STEP + 1, 3),\n",
    "        \"source\": SOURCE, \n",
    "        \"grid\": GRID,\n",
    "        # \"interpolate\": {\"grid\": GRID},\n",
    "        }])\n",
    "\n",
    "# Graph for computing ensemble mean and standard deviation for each time step\n",
    "ensms_graph = (\n",
    "    inputs     \n",
    "    .ensemble_operation(\"ensms\", dim=\"number\", batch_size=2)\n",
    "    .graph()\n",
    ")\n",
    "\n",
    "# Graph for computing probability of exceeding a certain threshold across a step window\n",
    "prob_windows = [\n",
    "    Range(f\"{x}-{x}\", [x]) for x in range(0, END_STEP + 1, 24) \n",
    "] + [\n",
    "    Range(f\"{x}-{x + 120}\", list(range(x + 6, x + 121, 6))) for x in range(0, END_STEP  - 119, 120)\n",
    "]\n",
    "prob_graph = (\n",
    "    inputs\n",
    "    .window_operation(\n",
    "        \"min\", \n",
    "        prob_windows,\n",
    "        dim=\"step\", batch_size=2)\n",
    "    .ensemble_operation(\n",
    "        \"threshold_prob\", \n",
    "        comparison=\"<=\", \n",
    "        local_scale_factor=2, \n",
    "        value= 273.15,\n",
    "    )\n",
    "    .graph()\n",
    ")\n",
    "\n",
    "# Graph for computing extreme forecast indices - this has the highest memory consumption \n",
    "efi_windows = [\n",
    "    Range(f\"{x}-{x+24}\", list(range(x+6, x+25, 6))) for x in range(0, END_STEP - 23, 24)\n",
    "]\n",
    "climatology = from_source(\n",
    "    [Request({\n",
    "        \"class\": \"od\", \n",
    "        \"expver\": \"0001\", \n",
    "        \"stream\": \"efhs\", \n",
    "        \"date\": CLIM_DATE, \n",
    "        \"time\": \"00\", \n",
    "        \"param\": 228004, \n",
    "        \"levtype\": \"sfc\", \n",
    "        \"type\": \"cd\", \n",
    "        \"quantile\": [f\"{x}:100\" for x in range(101)],\n",
    "        \"step\": [f\"{x}-{x+24}\" for x in range(0, END_STEP - 23, 24)],\n",
    "        \"source\": SOURCE, \n",
    "        \"grid\": GRID,\n",
    "        # \"interpolate\": {\"grid\": GRID},\n",
    "        }, no_expand=(\"quantile\",))]\n",
    ")\n",
    "efi_graph = (\n",
    "    inputs\n",
    "    .window_operation(\n",
    "        \"mean\", \n",
    "        efi_windows,\n",
    "        dim=\"step\", batch_size=2)\n",
    "    .ensemble_extreme(\n",
    "        \"extreme\",\n",
    "        climatology,\n",
    "        efi_windows,\n",
    "        sot=[10, 90],\n",
    "        eps=1e-4,\n",
    "        metadata={\n",
    "            \"edition\": 1,\n",
    "            \"gribTablesVersionNo\": 132,\n",
    "            \"indicatorOfParameter\": 167,\n",
    "            \"localDefinitionNumber\": 19,\n",
    "            \"timeRangeIndicator\": 3\n",
    "        }\n",
    "    )\n",
    "    .graph()\n",
    ")\n",
    "\n",
    "total_graph = deduplicate_nodes(ensms_graph + prob_graph + efi_graph)"
   ]
  },
  {
   "cell_type": "code",
   "execution_count": null,
   "metadata": {
    "tags": []
   },
   "outputs": [],
   "source": [
    "from cascade.visualise import visualise\n",
    "\n",
    "visualise(total_graph, \"pproc_2t.html\")"
   ]
  },
  {
   "cell_type": "code",
   "execution_count": null,
   "metadata": {
    "tags": []
   },
   "outputs": [],
   "source": [
    "from cascade.cascade import Cascade\n",
    "\n",
    "cas = Cascade(efi_graph)\n",
    "cas.benchmark(\"2t_memray\")"
   ]
  },
  {
   "cell_type": "code",
   "execution_count": null,
   "metadata": {},
   "outputs": [],
   "source": []
  }
 ],
 "metadata": {
  "kernelspec": {
   "display_name": "ppcascade",
   "language": "python",
   "name": "ppcascade"
  },
  "language_info": {
   "codemirror_mode": {
    "name": "ipython",
    "version": 3
   },
   "file_extension": ".py",
   "mimetype": "text/x-python",
   "name": "python",
   "nbconvert_exporter": "python",
   "pygments_lexer": "ipython3",
   "version": "3.10.10"
  }
 },
 "nbformat": 4,
 "nbformat_minor": 4
}
